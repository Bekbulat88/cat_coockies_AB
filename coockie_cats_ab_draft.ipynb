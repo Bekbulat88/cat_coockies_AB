{
 "cells": [
  {
   "cell_type": "markdown",
   "id": "2e707ced-e680-48b5-85b2-674bacfae2d1",
   "metadata": {},
   "source": [
    "mobile game ab_test"
   ]
  },
  {
   "cell_type": "code",
   "execution_count": 2,
   "id": "b4168a6b-799f-441c-89ef-132c0fef6835",
   "metadata": {},
   "outputs": [],
   "source": [
    "import numpy as np\n",
    "import pandas as pd\n",
    "import matplotlib.pyplot as plt\n",
    "import seaborn as s\n",
    "from scipy.stats import shapiro, mannwhitneyu, kstest"
   ]
  },
  {
   "cell_type": "code",
   "execution_count": 3,
   "id": "a35dd4e0-3831-4f22-8038-5b06a58b88ce",
   "metadata": {},
   "outputs": [],
   "source": [
    "df = pd.read_csv('cookie_cats1.csv')"
   ]
  },
  {
   "cell_type": "code",
   "execution_count": 4,
   "id": "0374685d-7707-4fd6-9b58-37e59d0051c7",
   "metadata": {},
   "outputs": [
    {
     "data": {
      "text/html": [
       "<div>\n",
       "<style scoped>\n",
       "    .dataframe tbody tr th:only-of-type {\n",
       "        vertical-align: middle;\n",
       "    }\n",
       "\n",
       "    .dataframe tbody tr th {\n",
       "        vertical-align: top;\n",
       "    }\n",
       "\n",
       "    .dataframe thead th {\n",
       "        text-align: right;\n",
       "    }\n",
       "</style>\n",
       "<table border=\"1\" class=\"dataframe\">\n",
       "  <thead>\n",
       "    <tr style=\"text-align: right;\">\n",
       "      <th></th>\n",
       "      <th>userid</th>\n",
       "      <th>version</th>\n",
       "      <th>sum_gamerounds</th>\n",
       "      <th>retention_1</th>\n",
       "      <th>retention_7</th>\n",
       "    </tr>\n",
       "  </thead>\n",
       "  <tbody>\n",
       "    <tr>\n",
       "      <th>0</th>\n",
       "      <td>116</td>\n",
       "      <td>gate_30</td>\n",
       "      <td>3</td>\n",
       "      <td>False</td>\n",
       "      <td>False</td>\n",
       "    </tr>\n",
       "    <tr>\n",
       "      <th>1</th>\n",
       "      <td>337</td>\n",
       "      <td>gate_30</td>\n",
       "      <td>38</td>\n",
       "      <td>True</td>\n",
       "      <td>False</td>\n",
       "    </tr>\n",
       "    <tr>\n",
       "      <th>2</th>\n",
       "      <td>377</td>\n",
       "      <td>gate_40</td>\n",
       "      <td>165</td>\n",
       "      <td>True</td>\n",
       "      <td>False</td>\n",
       "    </tr>\n",
       "    <tr>\n",
       "      <th>3</th>\n",
       "      <td>483</td>\n",
       "      <td>gate_40</td>\n",
       "      <td>1</td>\n",
       "      <td>False</td>\n",
       "      <td>False</td>\n",
       "    </tr>\n",
       "    <tr>\n",
       "      <th>4</th>\n",
       "      <td>488</td>\n",
       "      <td>gate_40</td>\n",
       "      <td>179</td>\n",
       "      <td>True</td>\n",
       "      <td>True</td>\n",
       "    </tr>\n",
       "  </tbody>\n",
       "</table>\n",
       "</div>"
      ],
      "text/plain": [
       "   userid  version  sum_gamerounds  retention_1  retention_7\n",
       "0     116  gate_30               3        False        False\n",
       "1     337  gate_30              38         True        False\n",
       "2     377  gate_40             165         True        False\n",
       "3     483  gate_40               1        False        False\n",
       "4     488  gate_40             179         True         True"
      ]
     },
     "execution_count": 4,
     "metadata": {},
     "output_type": "execute_result"
    }
   ],
   "source": [
    "df.head()"
   ]
  },
  {
   "cell_type": "code",
   "execution_count": 97,
   "id": "bf260fd0-26a6-4d92-b26c-d9244a8bd228",
   "metadata": {},
   "outputs": [],
   "source": [
    "group_A = df[df['version']== 'gate_30']\n",
    "group_B = df[df['version'] == 'gate_40']"
   ]
  },
  {
   "cell_type": "code",
   "execution_count": 64,
   "id": "a0b1ac50-e732-41a3-bea7-9477d39a106c",
   "metadata": {},
   "outputs": [
    {
     "data": {
      "text/html": [
       "<div>\n",
       "<style scoped>\n",
       "    .dataframe tbody tr th:only-of-type {\n",
       "        vertical-align: middle;\n",
       "    }\n",
       "\n",
       "    .dataframe tbody tr th {\n",
       "        vertical-align: top;\n",
       "    }\n",
       "\n",
       "    .dataframe thead th {\n",
       "        text-align: right;\n",
       "    }\n",
       "</style>\n",
       "<table border=\"1\" class=\"dataframe\">\n",
       "  <thead>\n",
       "    <tr style=\"text-align: right;\">\n",
       "      <th></th>\n",
       "      <th>userid</th>\n",
       "      <th>sum_gamerounds</th>\n",
       "    </tr>\n",
       "  </thead>\n",
       "  <tbody>\n",
       "    <tr>\n",
       "      <th>count</th>\n",
       "      <td>9.018900e+04</td>\n",
       "      <td>90189.000000</td>\n",
       "    </tr>\n",
       "    <tr>\n",
       "      <th>mean</th>\n",
       "      <td>4.998412e+06</td>\n",
       "      <td>51.872457</td>\n",
       "    </tr>\n",
       "    <tr>\n",
       "      <th>std</th>\n",
       "      <td>2.883286e+06</td>\n",
       "      <td>195.050858</td>\n",
       "    </tr>\n",
       "    <tr>\n",
       "      <th>min</th>\n",
       "      <td>1.160000e+02</td>\n",
       "      <td>0.000000</td>\n",
       "    </tr>\n",
       "    <tr>\n",
       "      <th>25%</th>\n",
       "      <td>2.512230e+06</td>\n",
       "      <td>5.000000</td>\n",
       "    </tr>\n",
       "    <tr>\n",
       "      <th>50%</th>\n",
       "      <td>4.995815e+06</td>\n",
       "      <td>16.000000</td>\n",
       "    </tr>\n",
       "    <tr>\n",
       "      <th>75%</th>\n",
       "      <td>7.496452e+06</td>\n",
       "      <td>51.000000</td>\n",
       "    </tr>\n",
       "    <tr>\n",
       "      <th>max</th>\n",
       "      <td>9.999861e+06</td>\n",
       "      <td>49854.000000</td>\n",
       "    </tr>\n",
       "  </tbody>\n",
       "</table>\n",
       "</div>"
      ],
      "text/plain": [
       "             userid  sum_gamerounds\n",
       "count  9.018900e+04    90189.000000\n",
       "mean   4.998412e+06       51.872457\n",
       "std    2.883286e+06      195.050858\n",
       "min    1.160000e+02        0.000000\n",
       "25%    2.512230e+06        5.000000\n",
       "50%    4.995815e+06       16.000000\n",
       "75%    7.496452e+06       51.000000\n",
       "max    9.999861e+06    49854.000000"
      ]
     },
     "execution_count": 64,
     "metadata": {},
     "output_type": "execute_result"
    }
   ],
   "source": [
    "df.describe()"
   ]
  },
  {
   "cell_type": "code",
   "execution_count": 65,
   "id": "66d723c9-9777-4167-aad9-f1d0f3ad4f73",
   "metadata": {},
   "outputs": [
    {
     "name": "stdout",
     "output_type": "stream",
     "text": [
      "True\n"
     ]
    }
   ],
   "source": [
    "print(df.userid.nunique() == df.shape[0])"
   ]
  },
  {
   "cell_type": "code",
   "execution_count": 66,
   "id": "a9d215e6-4c3c-4f47-a2da-b653ca0a8af8",
   "metadata": {},
   "outputs": [
    {
     "data": {
      "text/html": [
       "<div>\n",
       "<style scoped>\n",
       "    .dataframe tbody tr th:only-of-type {\n",
       "        vertical-align: middle;\n",
       "    }\n",
       "\n",
       "    .dataframe tbody tr th {\n",
       "        vertical-align: top;\n",
       "    }\n",
       "\n",
       "    .dataframe thead th {\n",
       "        text-align: right;\n",
       "    }\n",
       "</style>\n",
       "<table border=\"1\" class=\"dataframe\">\n",
       "  <thead>\n",
       "    <tr style=\"text-align: right;\">\n",
       "      <th></th>\n",
       "      <th>sum_gamerounds</th>\n",
       "    </tr>\n",
       "  </thead>\n",
       "  <tbody>\n",
       "    <tr>\n",
       "      <th>count</th>\n",
       "      <td>90189.000000</td>\n",
       "    </tr>\n",
       "    <tr>\n",
       "      <th>mean</th>\n",
       "      <td>51.872457</td>\n",
       "    </tr>\n",
       "    <tr>\n",
       "      <th>std</th>\n",
       "      <td>195.050858</td>\n",
       "    </tr>\n",
       "    <tr>\n",
       "      <th>min</th>\n",
       "      <td>0.000000</td>\n",
       "    </tr>\n",
       "    <tr>\n",
       "      <th>1%</th>\n",
       "      <td>0.000000</td>\n",
       "    </tr>\n",
       "    <tr>\n",
       "      <th>5%</th>\n",
       "      <td>1.000000</td>\n",
       "    </tr>\n",
       "    <tr>\n",
       "      <th>10%</th>\n",
       "      <td>1.000000</td>\n",
       "    </tr>\n",
       "    <tr>\n",
       "      <th>20%</th>\n",
       "      <td>3.000000</td>\n",
       "    </tr>\n",
       "    <tr>\n",
       "      <th>50%</th>\n",
       "      <td>16.000000</td>\n",
       "    </tr>\n",
       "    <tr>\n",
       "      <th>80%</th>\n",
       "      <td>67.000000</td>\n",
       "    </tr>\n",
       "    <tr>\n",
       "      <th>90%</th>\n",
       "      <td>134.000000</td>\n",
       "    </tr>\n",
       "    <tr>\n",
       "      <th>95%</th>\n",
       "      <td>221.000000</td>\n",
       "    </tr>\n",
       "    <tr>\n",
       "      <th>99%</th>\n",
       "      <td>493.000000</td>\n",
       "    </tr>\n",
       "    <tr>\n",
       "      <th>max</th>\n",
       "      <td>49854.000000</td>\n",
       "    </tr>\n",
       "  </tbody>\n",
       "</table>\n",
       "</div>"
      ],
      "text/plain": [
       "       sum_gamerounds\n",
       "count    90189.000000\n",
       "mean        51.872457\n",
       "std        195.050858\n",
       "min          0.000000\n",
       "1%           0.000000\n",
       "5%           1.000000\n",
       "10%          1.000000\n",
       "20%          3.000000\n",
       "50%         16.000000\n",
       "80%         67.000000\n",
       "90%        134.000000\n",
       "95%        221.000000\n",
       "99%        493.000000\n",
       "max      49854.000000"
      ]
     },
     "execution_count": 66,
     "metadata": {},
     "output_type": "execute_result"
    }
   ],
   "source": [
    "df.describe([0.01, 0.05, 0.10, 0.20, 0.80, 0.90, 0.95, 0.99])[[\"sum_gamerounds\"]]"
   ]
  },
  {
   "cell_type": "code",
   "execution_count": 67,
   "id": "9726f710-8aba-409d-bcf6-aa9210b881e3",
   "metadata": {},
   "outputs": [
    {
     "data": {
      "text/html": [
       "<div>\n",
       "<style scoped>\n",
       "    .dataframe tbody tr th:only-of-type {\n",
       "        vertical-align: middle;\n",
       "    }\n",
       "\n",
       "    .dataframe tbody tr th {\n",
       "        vertical-align: top;\n",
       "    }\n",
       "\n",
       "    .dataframe thead tr th {\n",
       "        text-align: left;\n",
       "    }\n",
       "\n",
       "    .dataframe thead tr:last-of-type th {\n",
       "        text-align: right;\n",
       "    }\n",
       "</style>\n",
       "<table border=\"1\" class=\"dataframe\">\n",
       "  <thead>\n",
       "    <tr>\n",
       "      <th></th>\n",
       "      <th colspan=\"3\" halign=\"left\">sum_gamerounds</th>\n",
       "    </tr>\n",
       "    <tr>\n",
       "      <th></th>\n",
       "      <th>mean</th>\n",
       "      <th>count</th>\n",
       "      <th>median</th>\n",
       "    </tr>\n",
       "    <tr>\n",
       "      <th>version</th>\n",
       "      <th></th>\n",
       "      <th></th>\n",
       "      <th></th>\n",
       "    </tr>\n",
       "  </thead>\n",
       "  <tbody>\n",
       "    <tr>\n",
       "      <th>gate_30</th>\n",
       "      <td>52.456264</td>\n",
       "      <td>44700</td>\n",
       "      <td>17.0</td>\n",
       "    </tr>\n",
       "    <tr>\n",
       "      <th>gate_40</th>\n",
       "      <td>51.298776</td>\n",
       "      <td>45489</td>\n",
       "      <td>16.0</td>\n",
       "    </tr>\n",
       "  </tbody>\n",
       "</table>\n",
       "</div>"
      ],
      "text/plain": [
       "        sum_gamerounds              \n",
       "                  mean  count median\n",
       "version                             \n",
       "gate_30      52.456264  44700   17.0\n",
       "gate_40      51.298776  45489   16.0"
      ]
     },
     "execution_count": 67,
     "metadata": {},
     "output_type": "execute_result"
    }
   ],
   "source": [
    "df.groupby(['version'])[['sum_gamerounds']].agg(['mean', 'count', 'median'])"
   ]
  },
  {
   "cell_type": "code",
   "execution_count": 68,
   "id": "9e5f6461-6cdc-4b42-9007-142a779f444e",
   "metadata": {},
   "outputs": [
    {
     "data": {
      "image/png": "[encoded data removed]",
      "text/plain": [
       "<Figure size 1800x500 with 3 Axes>"
      ]
     },
     "metadata": {},
     "output_type": "display_data"
    }
   ],
   "source": [
    "fig, axes = plt.subplots(1, 3, figsize = (18,5))\n",
    "axes[0].set_title('group_a')\n",
    "axes[0].hist(group_A['sum_gamerounds'])\n",
    "axes[1].set_title('group_b')\n",
    "axes[1].hist(group_B['sum_gamerounds'])\n",
    "axes[2].set_title(\"Distribution of Two Groups\")\n",
    "sns.boxplot(x = df.version, y = df.sum_gamerounds, ax = axes[2])\n",
    "plt.show()"
   ]
  },
  {
   "cell_type": "code",
   "execution_count": 83,
   "id": "fdc6c2d6-e40d-46a2-bfc7-5bf67d142b09",
   "metadata": {},
   "outputs": [],
   "source": [
    "#чистим тот большой выброс на boxplot\n",
    "group_A = group_A[group_A['sum_gamerounds'] < group_A['sum_gamerounds'].max()]"
   ]
  },
  {
   "cell_type": "code",
   "execution_count": 93,
   "id": "c7a87134-5879-482f-a0db-052dbedc1858",
   "metadata": {},
   "outputs": [
    {
     "data": {
      "text/plain": [
       "51.27701463152714"
      ]
     },
     "execution_count": 93,
     "metadata": {},
     "output_type": "execute_result"
    }
   ],
   "source": [
    "group_A['sum_gamerounds'].mean()"
   ]
  },
  {
   "cell_type": "code",
   "execution_count": 84,
   "id": "b629618a-f120-4e25-bb46-dfd3fe9b97c0",
   "metadata": {},
   "outputs": [
    {
     "data": {
      "text/plain": [
       "(0.8724129625974381, 0.0)"
      ]
     },
     "execution_count": 84,
     "metadata": {},
     "output_type": "execute_result"
    }
   ],
   "source": [
    "statistic, p_value = kstest(group_A['sum_gamerounds'], 'norm')\n",
    "#h0 distr is norm\n",
    "#h1 dist is not norm\n",
    "statistic, p_value"
   ]
  },
  {
   "cell_type": "code",
   "execution_count": 85,
   "id": "839e2a9f-b7b7-4f55-a9ff-6f512980946d",
   "metadata": {},
   "outputs": [
    {
     "data": {
      "text/plain": [
       "(0.8707186187388001, 0.0)"
      ]
     },
     "execution_count": 85,
     "metadata": {},
     "output_type": "execute_result"
    }
   ],
   "source": [
    "statistic, p_value = kstest(group_B['sum_gamerounds'], 'norm')\n",
    "statistic, p_value"
   ]
  },
  {
   "cell_type": "code",
   "execution_count": 86,
   "id": "fb7149b7-6bbc-426e-8c8c-d03c88286659",
   "metadata": {},
   "outputs": [],
   "source": [
    "stat, p_value = mannwhitneyu(group_A['sum_gamerounds'],group_B['sum_gamerounds'])"
   ]
  },
  {
   "cell_type": "code",
   "execution_count": 87,
   "id": "4b1fcb23-31b5-4348-bb6e-e391740cee4c",
   "metadata": {},
   "outputs": [
    {
     "data": {
      "text/plain": [
       "(1024240272.5, 0.05158207970577983)"
      ]
     },
     "execution_count": 87,
     "metadata": {},
     "output_type": "execute_result"
    }
   ],
   "source": [
    "stat,p_value"
   ]
  },
  {
   "cell_type": "code",
   "execution_count": 88,
   "id": "e3fbda03-26aa-4be2-9634-70becd0987d8",
   "metadata": {},
   "outputs": [],
   "source": [
    "summary = {\n",
    "    'mean_groupA' : group_A['sum_gamerounds'].mean(),\n",
    "    'mean_groupB' : group_B['sum_gamerounds'].mean(),\n",
    "    'p_value' : p_value\n",
    "}"
   ]
  },
  {
   "cell_type": "code",
   "execution_count": 89,
   "id": "24517370-0fe3-4679-93f5-bfef7f408acb",
   "metadata": {},
   "outputs": [],
   "source": [
    "summary_df = pd.Series(summary)"
   ]
  },
  {
   "cell_type": "code",
   "execution_count": 91,
   "id": "b615d18f-b55b-4035-a0d3-4337d76e2adb",
   "metadata": {},
   "outputs": [
    {
     "data": {
      "text/plain": [
       "mean_groupA    51.277015\n",
       "mean_groupB    51.298776\n",
       "p_value         0.051582\n",
       "dtype: float64"
      ]
     },
     "execution_count": 91,
     "metadata": {},
     "output_type": "execute_result"
    }
   ],
   "source": [
    "summary_df"
   ]
  },
  {
   "cell_type": "code",
   "execution_count": 94,
   "id": "2d0c5da6-7f9f-4f99-aa1d-d39011583492",
   "metadata": {},
   "outputs": [
    {
     "data": {
      "text/plain": [
       "True"
      ]
     },
     "execution_count": 94,
     "metadata": {},
     "output_type": "execute_result"
    }
   ],
   "source": [
    "p_value > 0.05 \n",
    "#'по сумме пройденных раундов, разница у двух групп не имеет статистической занимости. будем дальше искать разницу в retention'"
   ]
  },
  {
   "cell_type": "code",
   "execution_count": 106,
   "id": "68eb4c6a-ef3a-4a44-b9b3-0482b347c3ae",
   "metadata": {},
   "outputs": [
    {
     "data": {
      "text/plain": [
       "userid            8502\n",
       "version           8502\n",
       "sum_gamerounds    8502\n",
       "retention_1       8502\n",
       "retention_7       8502\n",
       "dtype: int64"
      ]
     },
     "execution_count": 106,
     "metadata": {},
     "output_type": "execute_result"
    }
   ],
   "source": [
    "group_A[group_A['retention_7'] == True].count()"
   ]
  },
  {
   "cell_type": "code",
   "execution_count": 107,
   "id": "66687398-c04c-4692-9a1b-c20dd4624b43",
   "metadata": {},
   "outputs": [
    {
     "data": {
      "text/plain": [
       "userid            8279\n",
       "version           8279\n",
       "sum_gamerounds    8279\n",
       "retention_1       8279\n",
       "retention_7       8279\n",
       "dtype: int64"
      ]
     },
     "execution_count": 107,
     "metadata": {},
     "output_type": "execute_result"
    }
   ],
   "source": [
    "group_B[group_B['retention_7'] == True].count()"
   ]
  },
  {
   "cell_type": "code",
   "execution_count": 120,
   "id": "0386f812-7ade-499e-8a36-1153ea8e630f",
   "metadata": {},
   "outputs": [
    {
     "name": "stderr",
     "output_type": "stream",
     "text": [
      "C:\\Users\\Win10\\AppData\\Local\\Temp\\ipykernel_14772\\3258464074.py:1: FutureWarning: Downcasting behavior in `replace` is deprecated and will be removed in a future version. To retain the old behavior, explicitly call `result.infer_objects(copy=False)`. To opt-in to the future behavior, set `pd.set_option('future.no_silent_downcasting', True)`\n",
      "  group_A = group_A.replace({True:1, False:0})\n"
     ]
    }
   ],
   "source": [
    "group_A = group_A.replace({True:1, False:0})"
   ]
  },
  {
   "cell_type": "code",
   "execution_count": 122,
   "id": "567da159-682b-4da0-8d8f-2dbf4139db84",
   "metadata": {},
   "outputs": [
    {
     "name": "stderr",
     "output_type": "stream",
     "text": [
      "C:\\Users\\Win10\\AppData\\Local\\Temp\\ipykernel_14772\\3441507336.py:1: FutureWarning: Downcasting behavior in `replace` is deprecated and will be removed in a future version. To retain the old behavior, explicitly call `result.infer_objects(copy=False)`. To opt-in to the future behavior, set `pd.set_option('future.no_silent_downcasting', True)`\n",
      "  group_B = group_B.replace({True:1, False:0})\n"
     ]
    }
   ],
   "source": [
    "group_B = group_B.replace({True:1, False:0})"
   ]
  },
  {
   "cell_type": "code",
   "execution_count": 140,
   "id": "f7481d05-df81-4579-872d-34ac95c67b5d",
   "metadata": {},
   "outputs": [
    {
     "data": {
      "text/plain": [
       "8502"
      ]
     },
     "execution_count": 140,
     "metadata": {},
     "output_type": "execute_result"
    }
   ],
   "source": [
    "group_A['retention_7'].sum()"
   ]
  },
  {
   "cell_type": "code",
   "execution_count": 141,
   "id": "23d4868d-c628-454d-a322-896cab3949ae",
   "metadata": {},
   "outputs": [
    {
     "data": {
      "text/plain": [
       "8279"
      ]
     },
     "execution_count": 141,
     "metadata": {},
     "output_type": "execute_result"
    }
   ],
   "source": [
    "group_B['retention_7'].sum()"
   ]
  },
  {
   "cell_type": "code",
   "execution_count": 137,
   "id": "4b940fe5-de71-4049-919e-bffaf7d5af0e",
   "metadata": {},
   "outputs": [
    {
     "data": {
      "text/plain": [
       "0.001554344685704005"
      ]
     },
     "execution_count": 137,
     "metadata": {},
     "output_type": "execute_result"
    }
   ],
   "source": [
    "stat, p_value = mannwhitneyu(group_A['retention_7'], group_B['retention_7'])\n",
    "p_value"
   ]
  },
  {
   "cell_type": "code",
   "execution_count": 143,
   "id": "70c7b2f5-b7c4-47e5-ac1e-c580ca374106",
   "metadata": {},
   "outputs": [
    {
     "data": {
      "text/plain": [
       "True"
      ]
     },
     "execution_count": 143,
     "metadata": {},
     "output_type": "execute_result"
    }
   ],
   "source": [
    "p_value < 0.05\n",
    "#так как p_value меньше 0.05 можем заявить, что разница в retention_7, \n",
    "#является статистически значимой. И контрольная группа показала результат выше,\n",
    "#следовательно нет необходимоти в переносе гейта на 40 лвл."
   ]
  },
  {
   "cell_type": "code",
   "execution_count": null,
   "id": "9288a1e6-d912-49b3-b642-520b98a18c71",
   "metadata": {},
   "outputs": [],
   "source": []
  }
 ],
 "metadata": {
  "kernelspec": {
   "display_name": "Python 3 (ipykernel)",
   "language": "python",
   "name": "python3"
  },
  "language_info": {
   "codemirror_mode": {
    "name": "ipython",
    "version": 3
   },
   "file_extension": ".py",
   "mimetype": "text/x-python",
   "name": "python",
   "nbconvert_exporter": "python",
   "pygments_lexer": "ipython3",
   "version": "3.12.4"
  }
 },
 "nbformat": 4,
 "nbformat_minor": 5
}
